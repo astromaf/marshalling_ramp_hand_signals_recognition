{
 "cells": [
  {
   "cell_type": "markdown",
   "metadata": {},
   "source": [
    "# RANDOM FOREST TRAINING\n",
    "\n",
    "M.Á. de Frutos (MAD-2020)\n",
    "\n",
    "First, we'll need to convert our numpy raw arrays into something that's a bit more readable. So let's do that by converting them into labeled CSV files."
   ]
  },
  {
   "cell_type": "code",
   "execution_count": 1,
   "metadata": {},
   "outputs": [
    {
     "name": "stdout",
     "output_type": "stream",
     "text": [
      "2.1.0\n"
     ]
    }
   ],
   "source": [
    "import numpy as np\n",
    "np.random.seed(1337)\n",
    "import matplotlib.pyplot as plt\n",
    "%matplotlib inline\n",
    "\n",
    "import tensorflow as tf\n",
    "from tensorflow import keras\n",
    "\n",
    "print(tf.__version__)"
   ]
  },
  {
   "cell_type": "markdown",
   "metadata": {},
   "source": [
    "Importamos dataset en formato NumPy's array directamente."
   ]
  },
  {
   "cell_type": "code",
   "execution_count": 2,
   "metadata": {},
   "outputs": [],
   "source": [
    "PATH='data/Final/'"
   ]
  },
  {
   "cell_type": "code",
   "execution_count": 3,
   "metadata": {},
   "outputs": [],
   "source": [
    "#Cragamos datos\n",
    "stopDataset=np.load(PATH+'stop.npy')\n",
    "noneDataset=np.load(PATH+'none.npy')\n",
    "aheadDataset=np.load(PATH+ 'ahead.npy')\n",
    "rightDataset=np.load(PATH+'right.npy')\n",
    "leftDataset=np.load(PATH+'left.npy')"
   ]
  },
  {
   "cell_type": "code",
   "execution_count": 4,
   "metadata": {},
   "outputs": [
    {
     "name": "stdout",
     "output_type": "stream",
     "text": [
      "STOP:  shape\t (18, 2) \tLong: 971 \tNº NaN: 0\n",
      "AHEAD: shape\t (18, 2) \tLong: 973 \tNº NaN: 0\n",
      "RIGHT: shape\t (18, 2) \tLong: 973 \tNº NaN: 0\n",
      "LEFT:  shape\t (18, 2) \tLong: 970 \tNº NaN: 0\n",
      "NONE:  shape\t (18, 2) \tLong: 970 \tNº NaN: 0\n"
     ]
    }
   ],
   "source": [
    "#Analisis rápido del tamañom NaN etc..\n",
    "print('STOP:  shape\\t', stopDataset[0].shape, '\\tLong:',len(stopDataset), '\\tNº NaN:', np.isnan(stopDataset).sum())\n",
    "print('AHEAD: shape\\t', aheadDataset[0].shape, '\\tLong:',len(aheadDataset),'\\tNº NaN:', np.isnan(aheadDataset).sum())\n",
    "print('RIGHT: shape\\t', rightDataset[0].shape, '\\tLong:',len(rightDataset),'\\tNº NaN:', np.isnan(rightDataset).sum())\n",
    "print('LEFT:  shape\\t', leftDataset[0].shape, '\\tLong:',len(leftDataset), '\\tNº NaN:', np.isnan(leftDataset).sum())\n",
    "print('NONE:  shape\\t', noneDataset[0].shape, '\\tLong:',len(noneDataset), '\\tNº NaN:', np.isnan(noneDataset).sum())"
   ]
  },
  {
   "cell_type": "markdown",
   "metadata": {},
   "source": [
    "## Pre-Procesamiento previo\n",
    " - 1) Añadimos etiquetas\n",
    " - 2) Generamos único Datset\n",
    " - 3) Mezclamos aleatoriamente\n",
    " - 4) Divido conjunto Train/Test\n",
    " - 5) Serializo\n",
    " \n",
    "\n",
    "Necesitamos añadir una etiqueta a cada tipo de datos antes de juntarlos todos.\n",
    "\n",
    "Usaremos el siguiente código:\n",
    "\n",
    "`0` -> `STOP`\n",
    "\n",
    "`1` -> `AHEAD`\n",
    "\n",
    "`2` -> `RIGHT`\n",
    "\n",
    "`3` -> `LEFT`\n",
    "\n",
    "`4` -> `NONE`\n"
   ]
  },
  {
   "cell_type": "code",
   "execution_count": 5,
   "metadata": {},
   "outputs": [
    {
     "name": "stdout",
     "output_type": "stream",
     "text": [
      "[0. 0. 0. ... 4. 4. 4.]\n",
      "4857 total examples for training.\n"
     ]
    }
   ],
   "source": [
    "#Añadimos array de ETIQUETAS\n",
    "labels = np.zeros(len(stopDataset))                        #Añadimos tantos 0 como datos de STOP\n",
    "labels = np.append(labels, np.full((len(aheadDataset)), 1)) #Añadimos tantos 4 como datos de AHEAD\n",
    "labels = np.append(labels, np.full((len(rightDataset)), 2)) #Añadimos tantos 1 como datos de RIGHT\n",
    "labels = np.append(labels, np.full((len(leftDataset)), 3)) #Añadimos tantos 2 como datos de LEFT\n",
    "labels = np.append(labels, np.full((len(noneDataset)), 4)) #Añadimos tantos 3 como datos de NONE\n",
    "\n",
    "\n",
    "print(labels) #Mostramos todas las etiquetas\n",
    "print(\"%i total examples for training.\" % len(labels)) #Y su suma total"
   ]
  },
  {
   "cell_type": "code",
   "execution_count": 6,
   "metadata": {},
   "outputs": [
    {
     "name": "stdout",
     "output_type": "stream",
     "text": [
      "Tamaño Dataset: 4857\n"
     ]
    }
   ],
   "source": [
    "#Juntamos todos los datos en un único dataset\n",
    "dataset = np.append(stopDataset, aheadDataset, axis=0)\n",
    "dataset = np.append(dataset, rightDataset, axis=0)\n",
    "dataset = np.append(dataset, leftDataset, axis=0)\n",
    "dataset = np.append(dataset, noneDataset, axis=0)\n",
    "\n",
    "print(\"Tamaño Dataset:\", len(dataset))"
   ]
  },
  {
   "cell_type": "code",
   "execution_count": 7,
   "metadata": {},
   "outputs": [
    {
     "name": "stdout",
     "output_type": "stream",
     "text": [
      "[4. 0. 0. ... 0. 0. 3.]\n"
     ]
    }
   ],
   "source": [
    "#Mezclados los datos manteniendo una correspondencia entre etiqueta y feature\n",
    "from sklearn.utils import shuffle\n",
    "\n",
    "X, y = shuffle(dataset, labels)\n",
    "print(y) "
   ]
  },
  {
   "cell_type": "code",
   "execution_count": 8,
   "metadata": {},
   "outputs": [
    {
     "name": "stdout",
     "output_type": "stream",
     "text": [
      "e.g.:  [0. 0. 0. 0. 1.]\n"
     ]
    }
   ],
   "source": [
    "#Comvertimos etiquetas a tipo Categórico \n",
    "\n",
    "N_Clases= 5 #Nº de clases \n",
    "\n",
    "y = tf.keras.utils.to_categorical(y, N_Clases)\n",
    "print(\"e.g.: \",y[0])\n",
    "\n"
   ]
  },
  {
   "cell_type": "code",
   "execution_count": 9,
   "metadata": {},
   "outputs": [],
   "source": [
    "#Separo un 20% de datos para Test\n",
    "from sklearn.model_selection import train_test_split #Divido los datos de entrenamiento y prueba.\n",
    "X_train, X_test, y_train, y_test = train_test_split(X,y,test_size=0.20, random_state=50) \n"
   ]
  },
  {
   "cell_type": "code",
   "execution_count": 18,
   "metadata": {},
   "outputs": [
    {
     "name": "stdout",
     "output_type": "stream",
     "text": [
      "Entrada:\n",
      " Train: (3885, 36) 3885\n",
      " Test: (972, 36) 972\n",
      "\n",
      "Salida:\n",
      " Train: (3885, 36) 3885\n",
      " Test: (972, 36) 972\n"
     ]
    }
   ],
   "source": [
    "#Ajustamos tamaño del array para Red neuronal\n",
    "print(\"Entrada:\")\n",
    "print(\" Train:\", X_train.shape, len (y_train))\n",
    "print(\" Test:\", X_test.shape, len (y_test))\n",
    "\n",
    "#Convertimos 18 keypoints *2 coordenadas X,y -> 36\n",
    "X_train = X_train.reshape(len(X_train), 36) \n",
    "X_test = X_test.reshape(len(X_test), 36) \n",
    "\n",
    "print(\"\\nSalida:\")\n",
    "print(\" Train:\", X_train.shape, len (y_train))\n",
    "print(\" Test:\", X_test.shape, len (y_test))\n"
   ]
  },
  {
   "cell_type": "markdown",
   "metadata": {},
   "source": [
    "### Func. Gráficas:"
   ]
  },
  {
   "cell_type": "code",
   "execution_count": 11,
   "metadata": {},
   "outputs": [],
   "source": [
    "#Gráficas    \n",
    "# Pinta MATRIZ de CONFUSIÓN- Código extraideo de la web de SKLEARN\n",
    "def plot_confusion_matrix(cm, classes,\n",
    "                          normalize=False,\n",
    "                          title='MATRIZ CONFUSIÓN',\n",
    "                          cmap=plt.cm.Blues):\n",
    "    \"\"\"\n",
    "    This function prints and plots the confusion matrix.\n",
    "    Normalization can be applied by setting `normalize=True`.\n",
    "    \"\"\"\n",
    "    plt.figure(figsize = (8,8))\n",
    "    plt.imshow(cm, interpolation='nearest', cmap=cmap)\n",
    "    plt.title(title)\n",
    "    plt.colorbar()\n",
    "    tick_marks = np.arange(len(classes))\n",
    "    plt.xticks(tick_marks, classes, rotation=90)\n",
    "    plt.yticks(tick_marks, classes)\n",
    "\n",
    "    if normalize:\n",
    "        cm = cm.astype('float') / cm.sum(axis=1)[:, np.newaxis]\n",
    "\n",
    "    thresh = cm.max() / 2.\n",
    "    for i, j in itertools.product(range(cm.shape[0]), range(cm.shape[1])):\n",
    "        plt.text(j, i, cm[i, j],\n",
    "                 horizontalalignment=\"center\",\n",
    "                 color=\"white\" if cm[i, j] > thresh else \"black\")\n",
    "\n",
    "    plt.tight_layout()\n",
    "    plt.ylabel('Observación')\n",
    "    plt.xlabel('Predicción')"
   ]
  },
  {
   "cell_type": "markdown",
   "metadata": {},
   "source": [
    "### RANDOM FOREST IMPLEMENTATION"
   ]
  },
  {
   "cell_type": "code",
   "execution_count": 12,
   "metadata": {},
   "outputs": [
    {
     "name": "stdout",
     "output_type": "stream",
     "text": [
      "Calculating RMSE for min_samples_leaf:1, 2, 3, 4, 5, 6, 7, 8, 9, "
     ]
    },
    {
     "data": {
      "image/png": "[encoded data removed]",
      "text/plain": [
       "<Figure size 432x288 with 1 Axes>"
      ]
     },
     "metadata": {
      "needs_background": "light"
     },
     "output_type": "display_data"
    },
    {
     "name": "stdout",
     "output_type": "stream",
     "text": [
      "Mejor \"min_samples_leaf\" es: 1\n"
     ]
    }
   ],
   "source": [
    "#Buscar el mejor número minimo de hojas para random forest\n",
    "from sklearn.ensemble import RandomForestRegressor\n",
    "from sklearn.metrics import r2_score\n",
    "from sklearn.metrics import mean_squared_error\n",
    "from math import sqrt\n",
    "import warnings\n",
    "warnings.filterwarnings('ignore')\n",
    "\n",
    "min_samples_leaf = range(1, 10)\n",
    "all_rmse_RFR = []\n",
    "\n",
    "print(\"Calculating RMSE for min_samples_leaf:\", end = '')\n",
    "\n",
    "for min_leafs in min_samples_leaf:\n",
    "    print(f'{min_leafs}, ', end = '')\n",
    "    dec_Tree = RandomForestRegressor(random_state = 0, min_samples_leaf = min_leafs)\n",
    "    dec_Tree.fit(X_train, y_train)\n",
    "    y_predicha = dec_Tree.predict(X_test)\n",
    "    all_rmse_RFR.append(sqrt(mean_squared_error(y_test, y_predicha)))\n",
    "\n",
    "plt.close()\n",
    "plt.grid(True)\n",
    "plt.scatter(min_samples_leaf, all_rmse_RFR)\n",
    "plt.title('Min Samples Leaf')\n",
    "plt.ylabel('RMSE Error')\n",
    "plt.xlabel('Nº of Leafs')\n",
    "plt.savefig('RFimages/Leaf.png')\n",
    "plt.show()\n",
    "\n",
    "best_forest_min_samples_leaf = min_samples_leaf[all_rmse_RFR.index(min(all_rmse_RFR))]\n",
    "print(f'Mejor \"min_samples_leaf\" es: {best_forest_min_samples_leaf}')"
   ]
  },
  {
   "cell_type": "code",
   "execution_count": 26,
   "metadata": {},
   "outputs": [
    {
     "name": "stdout",
     "output_type": "stream",
     "text": [
      "Calculating RMSE for min_samples_leaf:1, 2, 3, 4, 5, 6, 7, 8, 9, 10, 11, 12, 13, 14, 15, 16, 17, "
     ]
    },
    {
     "data": {
      "image/png": "[encoded data removed]",
      "text/plain": [
       "<Figure size 432x288 with 1 Axes>"
      ]
     },
     "metadata": {
      "needs_background": "light"
     },
     "output_type": "display_data"
    },
    {
     "name": "stdout",
     "output_type": "stream",
     "text": [
      "Mejor \"min_samples_leaf\" es: 17\n"
     ]
    }
   ],
   "source": [
    "#Buscar el mejor número de variables por cada corte random forest\n",
    "from sklearn.ensemble import RandomForestRegressor\n",
    "from sklearn.metrics import r2_score\n",
    "from sklearn.metrics import mean_squared_error\n",
    "from math import sqrt\n",
    "import warnings\n",
    "warnings.filterwarnings('ignore')\n",
    "\n",
    "min_samples_leaf = range(1, 18)\n",
    "all_rmse_RFR = []\n",
    "\n",
    "print(\"Calculating RMSE for min_samples_leaf:\", end = '')\n",
    "\n",
    "for min_leafs in min_samples_leaf:\n",
    "    print(f'{min_leafs}, ', end = '')\n",
    "    dec_Tree = RandomForestRegressor(random_state = 0, max_samples=min_leafs)\n",
    "    dec_Tree.fit(X_train, y_train)\n",
    "    y_predicha = dec_Tree.predict(X_test)\n",
    "    all_rmse_RFR.append(sqrt(mean_squared_error(y_test, y_predicha)))\n",
    "\n",
    "plt.close()\n",
    "plt.grid(True)\n",
    "plt.scatter(min_samples_leaf, all_rmse_RFR)\n",
    "plt.title('Best Nº of samples to draw from X')\n",
    "plt.ylabel('RMSE Error')\n",
    "plt.xlabel('Nº of samples')\n",
    "plt.savefig('RFimages/Samples.png')\n",
    "plt.show()\n",
    "\n",
    "best_forest_min_samples_leaf = min_samples_leaf[all_rmse_RFR.index(min(all_rmse_RFR))]\n",
    "print(f'Mejor \"min_samples_leaf\" es: {best_forest_min_samples_leaf}')"
   ]
  },
  {
   "cell_type": "code",
   "execution_count": 13,
   "metadata": {},
   "outputs": [
    {
     "name": "stdout",
     "output_type": "stream",
     "text": [
      "Calculating RMSE for n_estimators:1, 2, 3, 4, 5, 6, 7, 8, 9, 10, 11, 12, 13, 14, 15, 16, 17, 18, 19, 20, 21, 22, 23, 24, 25, 26, 27, 28, 29, 30, 31, 32, 33, 34, 35, 36, 37, 38, 39, 40, 41, 42, 43, 44, 45, 46, 47, 48, 49, "
     ]
    },
    {
     "data": {
      "image/png": "[encoded data removed]",
      "text/plain": [
       "<Figure size 432x288 with 1 Axes>"
      ]
     },
     "metadata": {
      "needs_background": "light"
     },
     "output_type": "display_data"
    },
    {
     "name": "stdout",
     "output_type": "stream",
     "text": [
      "Mejor \"Nº de árboles\" es: 45\n"
     ]
    }
   ],
   "source": [
    "#Buscar el mejor número de arboles con el mejor número minimo de hojas obtenidas en el apartado anterior\n",
    "from sklearn.ensemble import RandomForestRegressor\n",
    "\n",
    "n_estimators = range(1, 50, 1)\n",
    "all_rmse_RFR = []\n",
    "print(\"Calculating RMSE for n_estimators:\", end = '')\n",
    "for estimator in n_estimators:\n",
    "    print(f'{estimator}, ', end = '')\n",
    "    dec_Tree = RandomForestRegressor(random_state = 0, n_estimators = estimator, min_samples_leaf = best_forest_min_samples_leaf)\n",
    "    dec_Tree.fit(X_train, y_train)\n",
    "    y_predicha = dec_Tree.predict(X_test)\n",
    "    all_rmse_RFR.append(sqrt(mean_squared_error(y_test, y_predicha)))\n",
    "    \n",
    "\n",
    "plt.close()\n",
    "plt.scatter(n_estimators, all_rmse_RFR)\n",
    "plt.title('Best nº of Trees')\n",
    "plt.grid(True)\n",
    "plt.ylabel('RMSE Error')\n",
    "plt.xlabel('Nº of Tress')\n",
    "plt.savefig('RFimages/Trees.png')\n",
    "plt.show()\n",
    "\n",
    "best_forest_entimator = n_estimators[all_rmse_RFR.index(min(all_rmse_RFR))]\n",
    "print(f'Mejor \"Nº de árboles\" es: {best_forest_entimator}')"
   ]
  },
  {
   "cell_type": "code",
   "execution_count": 14,
   "metadata": {},
   "outputs": [
    {
     "name": "stdout",
     "output_type": "stream",
     "text": [
      "RMSE RandomForestRegressor: 0.0768466043459443\n",
      "R^2 score RandomForestRegressor: 0.9625752578761441\n"
     ]
    }
   ],
   "source": [
    "# Random Forest\n",
    "from sklearn.ensemble import RandomForestRegressor\n",
    "\n",
    "rand_forest = RandomForestRegressor(random_state=0, n_estimators=45)\n",
    "rand_forest.fit(X_train,y_train);\n",
    "y_predicha = rand_forest.predict(X_test)\n",
    "\n",
    "\n",
    "rmse_RFR = sqrt(mean_squared_error(y_test, y_predicha))\n",
    "r_RFR = r2_score(y_test, y_predicha)\n",
    "\n",
    "print(\"RMSE RandomForestRegressor:\", rmse_RFR)\n",
    "print(\"R^2 score RandomForestRegressor:\",r_RFR)"
   ]
  },
  {
   "cell_type": "code",
   "execution_count": 37,
   "metadata": {},
   "outputs": [
    {
     "name": "stdout",
     "output_type": "stream",
     "text": [
      "Feature ranking:\n",
      "1. feature 19 (0.352220)\n",
      "2. feature 20 (0.148214)\n",
      "3. feature 18 (0.124706)\n",
      "4. feature 34 (0.077635)\n",
      "5. feature 15 (0.059548)\n",
      "6. feature 12 (0.044031)\n",
      "7. feature 4 (0.028067)\n",
      "8. feature 17 (0.020832)\n",
      "9. feature 21 (0.016228)\n",
      "10. feature 5 (0.011036)\n",
      "11. feature 10 (0.010625)\n",
      "12. feature 1 (0.010355)\n",
      "13. feature 11 (0.009997)\n",
      "14. feature 35 (0.009664)\n",
      "15. feature 13 (0.008396)\n",
      "16. feature 8 (0.007928)\n",
      "17. feature 3 (0.007489)\n",
      "18. feature 16 (0.006700)\n"
     ]
    },
    {
     "data": {
      "image/png": "[encoded data removed]",
      "text/plain": [
       "<Figure size 1440x720 with 1 Axes>"
      ]
     },
     "metadata": {
      "needs_background": "light"
     },
     "output_type": "display_data"
    }
   ],
   "source": [
    "importances = rand_forest.feature_importances_\n",
    "std = np.std([tree.feature_importances_ for tree in rand_forest.estimators_],\n",
    "             axis=0)\n",
    "indices = np.argsort(importances)[::-1]\n",
    "\n",
    "# Print the feature ranking\n",
    "print(\"Feature ranking:\")\n",
    "\n",
    "for f in range(X.shape[1]):\n",
    "    print(\"%d. Feature %d (%f)\" % (f + 1, indices[f], importances[indices[f]]))\n",
    "\n",
    "# Plot the impurity-based feature importances of the forest\n",
    "plt.figure(figsize=(20,10))\n",
    "plt.title(\"Feature importances\")\n",
    "plt.bar(range(X_train.shape[1]), importances[indices],\n",
    "        color=\"b\", yerr=std[indices], align=\"center\")\n",
    "plt.xticks(range(X_train.shape[1]), indices)\n",
    "plt.xlim([-1, X_train.shape[1]-8])\n",
    "plt.savefig('RFimages/Importance.png')\n",
    "plt.show()"
   ]
  },
  {
   "cell_type": "code",
   "execution_count": 15,
   "metadata": {},
   "outputs": [
    {
     "name": "stdout",
     "output_type": "stream",
     "text": [
      "              precision    recall  f1-score   support\n",
      "\n",
      "           0       0.99      0.99      0.99       214\n",
      "           1       0.97      0.98      0.97       173\n",
      "           2       0.98      0.99      0.99       207\n",
      "           3       0.99      0.97      0.98       190\n",
      "           4       1.00      0.99      1.00       188\n",
      "\n",
      "    accuracy                           0.98       972\n",
      "   macro avg       0.98      0.98      0.98       972\n",
      "weighted avg       0.98      0.98      0.98       972\n",
      "\n"
     ]
    },
    {
     "data": {
      "image/png": "[encoded data removed]",
      "text/plain": [
       "<Figure size 576x576 with 2 Axes>"
      ]
     },
     "metadata": {
      "needs_background": "light"
     },
     "output_type": "display_data"
    }
   ],
   "source": [
    "from sklearn.metrics import confusion_matrix\n",
    "from sklearn.metrics import classification_report\n",
    "import itertools\n",
    "\n",
    "MAP_POSES = { 0: 'STOP', 1: 'AHEAD', 2: 'RIGHT',3: 'LEFT', 4: 'NONE'}\n",
    "\n",
    "# Predict the values from the validation dataset\n",
    "Y_pred = rand_forest.predict(X_test)\n",
    "# Convert predictions classes to one hot vectors \n",
    "Y_pred_classes = np.argmax(Y_pred, axis = 1) \n",
    "# Convert validation observations to one hot vectors\n",
    "Y_true = np.argmax(y_test, axis = 1) \n",
    "# compute the confusion matrix\n",
    "confusion_mtx = confusion_matrix(Y_true, Y_pred_classes) \n",
    "# plot the confusion matrix\n",
    "plot_confusion_matrix(confusion_mtx, classes = list(MAP_POSES.values()))\n",
    "\n",
    "print(classification_report(Y_pred_classes, Y_true))"
   ]
  },
  {
   "cell_type": "code",
   "execution_count": null,
   "metadata": {},
   "outputs": [],
   "source": [
    "#Importamos las librerias para mostrar el arbol\n",
    "from sklearn.tree import export_graphviz\n",
    "from IPython.display import display\n",
    "from sklearn import tree\n",
    "import graphviz\n",
    "\n",
    "#Seleccionamos el primer árbol para verlo por pantalla\n",
    "forest_regressor = rand_forest.estimators_[0]\n",
    "#Exportamos el modelo a archivo .dot\n",
    "with open(\"tree_output.dot\", 'w') as f:\n",
    "     f = tree.export_graphviz(forest_regressor,\n",
    "                              out_file=f,\n",
    "                              max_depth = 7,\n",
    "                              impurity = True,\n",
    "                              rounded = True,\n",
    "                              filled= True )\n",
    "\n",
    "with open(\"tree_output.dot\") as f:\n",
    "    dot_graph = f.read()\n",
    "#mostramos el arbol  \n",
    "display(graphviz.Source(dot_graph))"
   ]
  },
  {
   "cell_type": "markdown",
   "metadata": {},
   "source": [
    "## Save and Load model"
   ]
  },
  {
   "cell_type": "code",
   "execution_count": 16,
   "metadata": {},
   "outputs": [],
   "source": [
    "import pickle"
   ]
  },
  {
   "cell_type": "code",
   "execution_count": 17,
   "metadata": {},
   "outputs": [],
   "source": [
    "#Save Model\n",
    "filename = 'rand_forest_v2.sav'\n",
    "pickle.dump(rand_forest, open(filename, 'wb'))"
   ]
  },
  {
   "cell_type": "code",
   "execution_count": null,
   "metadata": {},
   "outputs": [],
   "source": [
    "#Load Model\n",
    "#loaded_model = pickle.load(open(filename, 'rb'))"
   ]
  },
  {
   "cell_type": "code",
   "execution_count": null,
   "metadata": {},
   "outputs": [],
   "source": [
    "#result = loaded_model.score(X_test, y_test)\n",
    "#print(result)"
   ]
  }
 ],
 "metadata": {
  "kernelspec": {
   "display_name": "Python 3",
   "language": "python",
   "name": "python3"
  },
  "language_info": {
   "codemirror_mode": {
    "name": "ipython",
    "version": 3
   },
   "file_extension": ".py",
   "mimetype": "text/x-python",
   "name": "python",
   "nbconvert_exporter": "python",
   "pygments_lexer": "ipython3",
   "version": "3.7.3"
  }
 },
 "nbformat": 4,
 "nbformat_minor": 4
}
